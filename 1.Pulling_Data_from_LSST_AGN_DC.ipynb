{
 "cells": [
  {
   "cell_type": "markdown",
   "id": "b0f4398c",
   "metadata": {},
   "source": [
    "## Variables to set"
   ]
  },
  {
   "cell_type": "code",
   "execution_count": 1,
   "id": "d81cc371",
   "metadata": {},
   "outputs": [],
   "source": [
    "#Variables to use (EDIT THIS TO CUSTOMIZE)\n",
    "save_path = './' #Save your files here (Into two folders that are called Light_Curves and Padded_lcs) \n",
    "delete_prior_files = True #Delete previous files called Light_Curves and Padded_lcs\n",
    "cadence = 100 #Minimum cadence quasars to use \n",
    "selected_filters = 'ugriz' #Which filter do you want to use (choose from the letters ugriz)"
   ]
  },
  {
   "cell_type": "markdown",
   "id": "f93a8c26",
   "metadata": {},
   "source": [
    "## Import Statements"
   ]
  },
  {
   "cell_type": "code",
   "execution_count": 2,
   "id": "8edae97b",
   "metadata": {},
   "outputs": [],
   "source": [
    "#Use the LSST_AGN_DC_Pull Script\n",
    "from LSST_AGN_DC_Pull import get_all_data_quasars,Select_Cadence_and_Features,ReShape_Light_Curves,Pad_Light_Curves\n",
    "import pandas as pd\n",
    "import numpy as np\n",
    "import os\n",
    "from shutil import rmtree\n",
    "from tqdm import tqdm\n",
    "from time import time\n",
    "import pickle"
   ]
  },
  {
   "cell_type": "markdown",
   "id": "c22d3b54",
   "metadata": {},
   "source": [
    "## Loading the Data from the Site"
   ]
  },
  {
   "cell_type": "code",
   "execution_count": 3,
   "id": "fc9c49d3",
   "metadata": {},
   "outputs": [
    {
     "name": "stdout",
     "output_type": "stream",
     "text": [
      "Loading LSST AGN Data from Site...\n",
      "Data Loaded in 384.4414412975311s\n"
     ]
    }
   ],
   "source": [
    "#Load the forced_source table with the light curves and the object table with the attributes\n",
    "#This is necessary because it contains the quasar classification and the redshift data that is important for later\n",
    "forced_source_url = 'https://zenodo.org/records/6878414/files/ForcedSourceTable.parquet'\n",
    "object_url = 'https://zenodo.org/records/6878414/files/ObjectTable.parquet'\n",
    "\n",
    "#Now loading\n",
    "start_time = time()\n",
    "print('Loading LSST AGN Data from Site...')\n",
    "object_df = pd.read_parquet(object_url)\n",
    "fs_df = pd.read_parquet(forced_source_url)\n",
    "print('Data Loaded in {}s'.format(time()-start_time))"
   ]
  },
  {
   "cell_type": "markdown",
   "id": "284498eb",
   "metadata": {},
   "source": [
    "## Loading Data from Saved Folder"
   ]
  },
  {
   "cell_type": "code",
   "execution_count": null,
   "id": "c233d393",
   "metadata": {},
   "outputs": [],
   "source": [
    "## Data challenge root data dir\n",
    "data_dir = \"C:/Users/rajua/3rd Sem Masters/Thesis Research/6878414/\" #The directory of the saved file\n",
    "\n",
    "object_df = pd.read_parquet(os.path.join(data_dir, 'ObjectTable.parquet'))\n",
    "\n",
    "fs_df = pd.read_parquet(os.path.join(data_dir, 'ForcedSourceTable.parquet'))"
   ]
  },
  {
   "cell_type": "markdown",
   "id": "f8ccb616",
   "metadata": {},
   "source": [
    "## Processing Input Tables"
   ]
  },
  {
   "cell_type": "code",
   "execution_count": 4,
   "id": "94385610",
   "metadata": {},
   "outputs": [
    {
     "name": "stderr",
     "output_type": "stream",
     "text": [
      "Selecting Quasar Light Curves: 100%|████████████████████████████████████████████| 83130/83130 [04:25<00:00, 313.31it/s]\n"
     ]
    }
   ],
   "source": [
    "#Saving all the quasar and their attributes\n",
    "quasars = object_df[object_df['class'] == 'Qso']\n",
    "\n",
    "# groupby forcedsource table by objectid\n",
    "fs_gp = fs_df.groupby('objectId')\n",
    "\n",
    "#Dropping Objects that don't have periodic data\n",
    "lc_cols = [col for col in object_df.columns if 'Periodic' in col]\n",
    "td_objects = object_df.dropna(subset=lc_cols, how='all').copy()\n",
    "\n",
    "#Get all the quasar data\n",
    "all_quasars_light_curves = get_all_data_quasars(quasars,td_objects,fs_gp,Filter)"
   ]
  },
  {
   "cell_type": "markdown",
   "id": "15742fe5",
   "metadata": {},
   "source": [
    "## Properties of Selected Cadence Quasars"
   ]
  },
  {
   "cell_type": "code",
   "execution_count": 5,
   "id": "e12492c1",
   "metadata": {},
   "outputs": [
    {
     "name": "stderr",
     "output_type": "stream",
     "text": [
      "Filtering for Cadence and Features: 100%|██████████████████████████████████████| 39173/39173 [00:06<00:00, 6447.19it/s]\n"
     ]
    }
   ],
   "source": [
    "#Selecting the ones with 100 cadences and getting their magnitudes, errors, and observation times\n",
    "selected_quasar_light_curves = Select_Cadence_and_Features(all_quasars_light_curves,cadence,selected_filters)"
   ]
  },
  {
   "cell_type": "code",
   "execution_count": null,
   "id": "0c3f6605",
   "metadata": {},
   "outputs": [],
   "source": [
    "#Saving the selected light curves (run if you want)\n",
    "with open('unprocessed_lcs.pickle', 'wb') as handle:\n",
    "    pickle.dump(selected_quasar_light_curves, handle)"
   ]
  },
  {
   "cell_type": "code",
   "execution_count": null,
   "id": "57e04da6",
   "metadata": {},
   "outputs": [],
   "source": [
    "#Loading the selected light curves\n",
    "with open('unprocessed_lcs.pickle', 'rb') as handle:\n",
    "    selected_quasar_light_curves = pickle.load(handle)"
   ]
  },
  {
   "cell_type": "code",
   "execution_count": null,
   "id": "f0c31560",
   "metadata": {},
   "outputs": [],
   "source": [
    "#Getting the ids associated with each quasar\n",
    "selected_quasar_ids = []\n",
    "for i in selected_quasar_light_curves:\n",
    "    selected_quasar_ids.append(i.objectId.iloc[0])\n",
    "\n",
    "#Getting the redshifts of these quasars\n",
    "redshifts = []\n",
    "for quasar_id in selected_quasar_ids:\n",
    "    z = quasars[quasars.index == str(quasar_id)].z[0]\n",
    "    redshifts.append(z)\n",
    "redshifts_map = pd.DataFrame({'ID':selected_quasar_ids,'z':redshifts})\n",
    "redshifts_map.to_csv(save_path+'Redshift_Map.csv',index = False)"
   ]
  },
  {
   "cell_type": "markdown",
   "id": "2b4808f2",
   "metadata": {},
   "source": [
    "## Processing the labels and shape of data and Creating Padding to Homogenize Length"
   ]
  },
  {
   "cell_type": "code",
   "execution_count": 6,
   "id": "4d37edec",
   "metadata": {},
   "outputs": [
    {
     "name": "stderr",
     "output_type": "stream",
     "text": [
      "Formatting Output: 100%|████████████████████████████████████████████████████████████| 997/997 [00:02<00:00, 408.04it/s]\n",
      "Padding Light Curves: 997it [00:02, 385.98it/s]\n"
     ]
    }
   ],
   "source": [
    "#Reshaping and Homogenzing the light curves\n",
    "reshaped_curves = ReShape_Light_Curves(selected_quasar_light_curves)\n",
    "processed_curves = Pad_Light_Curves(reshaped_curves)"
   ]
  },
  {
   "cell_type": "markdown",
   "id": "b1d9f44b",
   "metadata": {},
   "source": [
    "## Saving Files"
   ]
  },
  {
   "cell_type": "code",
   "execution_count": 7,
   "id": "c35ec76d",
   "metadata": {},
   "outputs": [
    {
     "name": "stderr",
     "output_type": "stream",
     "text": [
      "Saving Light Curves: 100%|███████████████████████████████████████████████████████████| 997/997 [00:11<00:00, 83.67it/s]\n"
     ]
    }
   ],
   "source": [
    "#Create the necessary folders and deleting old files if they exist\n",
    "for folder in ['Light_Curves','Padded_lc']:\n",
    "    for Filter in selected_filters:\n",
    "        if delete_prior_files:\n",
    "            if folder in os.listdir():\n",
    "                rmtree(save_path+folder)\n",
    "    for Filter in selected_filters:\n",
    "        if folder+'/'+Filter not in os.listdir():\n",
    "            os.makedirs(save_path+folder+'/'+Filter)\n",
    "\n",
    "#Save the formatted light curves    \n",
    "for i in tqdm(range(len(processed_curves)),desc = 'Saving Light Curves'):\n",
    "    for Filter in selected_filters:\n",
    "        reshaped_curves[i][Filter].to_csv(f'{save_path}Light_Curves/{Filter}/{str(selected_quasar_ids[i])}.csv',index = False)\n",
    "        processed_curves[i][Filter].to_csv(f'{save_path}Padded_lc/{Filter}/{str(selected_quasar_ids[i])}.csv',index = False)\n",
    "\n",
    "print('Done..')"
   ]
  }
 ],
 "metadata": {
  "kernelspec": {
   "display_name": "Python 3 (ipykernel)",
   "language": "python",
   "name": "python3"
  },
  "language_info": {
   "codemirror_mode": {
    "name": "ipython",
    "version": 3
   },
   "file_extension": ".py",
   "mimetype": "text/x-python",
   "name": "python",
   "nbconvert_exporter": "python",
   "pygments_lexer": "ipython3",
   "version": "3.9.18"
  }
 },
 "nbformat": 4,
 "nbformat_minor": 5
}
